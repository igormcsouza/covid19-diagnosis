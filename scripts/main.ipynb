{
 "cells": [
  {
   "cell_type": "markdown",
   "metadata": {},
   "source": [
    "# Covid-19 Diagnosis!\n",
    "\n",
    "> The World Health Organization (WHO) characterized the COVID-19, caused by the SARS-CoV-2, as a pandemic on March 11, while the exponential increase in the number of cases was risking to overwhelm health systems around the world with a demand for ICU beds far above the existing capacity, with regions of Italy being prominent examples.\n",
    "\n",
    "## Overall Information\n",
    "\n",
    "### Motivation\n",
    "\n",
    "The world needs us to put all our knowledge to help solve this issue! Getting there means save a lot of lifes!\n",
    "\n",
    "### Which task is going to be solved\n",
    "\n",
    "We are going to work with the [Task 1](https://www.kaggle.com/einsteindata4u/covid19/tasks?taskId=645) which answers the question:\n",
    "> Based on the results of laboratory tests commonly collected for a suspected COVID-19 case during a visit to the emergency room, would it be possible to predict the test result for SARS-Cov-2 (positive/negative)?\n",
    "\n",
    "### How to work on this\n",
    "\n",
    "This Notebook will hold all the tests done to make it work. The idea is to build tests using differents tools and hyperparameters in order to find the best combination of tools and parameters. At the end, the best combination will be transform into a package which is going to be used on the final result.\n",
    "\n",
    "So it can work better, the project will be devided into some points, they are:\n",
    "Processing Data, Ways to solve (from easy to hard), Final analysis\n",
    "\n",
    "1) Processing Data: The data is still a mistery. The idea is to load data, find issues on data, work on blank spaces and make others arrangements to make it good for it\n",
    "\n",
    "2) Ways to solve: So far was choosed Sklearn simple regression and Tensor-flow Deep Learning. More ideas may bring up during the process.\n",
    "\n",
    "3) FInal Analisys: Plot some graphs with info from results.\n"
   ]
  },
  {
   "cell_type": "code",
   "execution_count": 1,
   "metadata": {},
   "outputs": [],
   "source": [
    "# Import need libraries\n",
    "import numpy as np\n",
    "import pandas as pd\n",
    "import matplotlib.pyplot as plt"
   ]
  },
  {
   "cell_type": "markdown",
   "metadata": {},
   "source": [
    "## Processing Data"
   ]
  },
  {
   "cell_type": "code",
   "execution_count": null,
   "metadata": {},
   "outputs": [],
   "source": []
  }
 ],
 "metadata": {
  "kernelspec": {
   "display_name": "Python 3",
   "language": "python",
   "name": "python3"
  },
  "language_info": {
   "codemirror_mode": {
    "name": "ipython",
    "version": 3
   },
   "file_extension": ".py",
   "mimetype": "text/x-python",
   "name": "python",
   "nbconvert_exporter": "python",
   "pygments_lexer": "ipython3",
   "version": "3.6.9"
  }
 },
 "nbformat": 4,
 "nbformat_minor": 4
}
